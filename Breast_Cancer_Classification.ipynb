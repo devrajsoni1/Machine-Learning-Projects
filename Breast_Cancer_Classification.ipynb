{
 "cells": [
  {
   "cell_type": "code",
   "execution_count": 19,
   "metadata": {},
   "outputs": [],
   "source": [
    "import tensorflow as tf\n",
    "import pandas as pd\n",
    "import numpy as np\n",
    "from tensorflow import keras"
   ]
  },
  {
   "cell_type": "code",
   "execution_count": 20,
   "metadata": {},
   "outputs": [],
   "source": [
    "X_train = np.load('D:\\MateRate\\X_train.npy') \n",
    "Y_train = np.load('D:\\MateRate\\Y_train.npy')\n",
    "X_test = np.load('D:\\MateRate\\X_test.npy')"
   ]
  },
  {
   "cell_type": "code",
   "execution_count": 21,
   "metadata": {},
   "outputs": [
    {
     "name": "stdout",
     "output_type": "stream",
     "text": [
      "(4160, 50, 50, 3)\n",
      "(4160,)\n",
      "(1387, 50, 50, 3)\n"
     ]
    }
   ],
   "source": [
    "print(X_train.shape)\n",
    "print(Y_train.shape)\n",
    "print(X_test.shape)"
   ]
  },
  {
   "cell_type": "code",
   "execution_count": 22,
   "metadata": {},
   "outputs": [],
   "source": [
    "Y_train = np.reshape(Y_train, (-1, 1))"
   ]
  },
  {
   "cell_type": "code",
   "execution_count": 23,
   "metadata": {},
   "outputs": [
    {
     "data": {
      "text/plain": [
       "(4160, 1)"
      ]
     },
     "execution_count": 23,
     "metadata": {},
     "output_type": "execute_result"
    }
   ],
   "source": [
    "Y_train.shape"
   ]
  },
  {
   "cell_type": "code",
   "execution_count": 24,
   "metadata": {},
   "outputs": [
    {
     "name": "stdout",
     "output_type": "stream",
     "text": [
      "(4000, 50, 50, 3)\n",
      "(160, 50, 50, 3)\n",
      "(4000, 1)\n",
      "(160, 1)\n"
     ]
    }
   ],
   "source": [
    "Y_val= np.split(Y_train, [4000, 4160])[1]\n",
    "Y_train= np.split(Y_train, [4000, 4160])[0]\n",
    "\n",
    "X_val=np.split(X_train, [4000, 4160])[1]\n",
    "X_train=np.split(X_train, [4000, 4160])[0]\n",
    "\n",
    "print(X_train.shape)\n",
    "print(X_val.shape)\n",
    "print(Y_train.shape)\n",
    "print(Y_val.shape)"
   ]
  },
  {
   "cell_type": "code",
   "execution_count": 27,
   "metadata": {},
   "outputs": [
    {
     "data": {
      "image/png": "[encoded data removed]",
      "text/plain": [
       "<Figure size 432x288 with 1 Axes>"
      ]
     },
     "metadata": {
      "needs_background": "light"
     },
     "output_type": "display_data"
    }
   ],
   "source": [
    "#plotting an image\n",
    "import matplotlib.pyplot as plt\n",
    "img = X_train[100]/255\n",
    "imgplot = plt.imshow(img)"
   ]
  },
  {
   "cell_type": "code",
   "execution_count": 28,
   "metadata": {},
   "outputs": [
    {
     "data": {
      "text/plain": [
       "2014"
      ]
     },
     "execution_count": 28,
     "metadata": {},
     "output_type": "execute_result"
    }
   ],
   "source": [
    "np.count_nonzero(Y_train == 1)"
   ]
  },
  {
   "cell_type": "code",
   "execution_count": 29,
   "metadata": {},
   "outputs": [],
   "source": [
    "from tensorflow.keras.models import Sequential\n",
    "from tensorflow.keras.layers import Conv2D\n",
    "from tensorflow.keras.layers import MaxPool2D\n",
    "from tensorflow.keras.layers import Flatten\n",
    "from tensorflow.keras.layers import Dense\n",
    "from tensorflow.keras.layers import Dropout"
   ]
  },
  {
   "cell_type": "code",
   "execution_count": 68,
   "metadata": {},
   "outputs": [],
   "source": [
    "model = Sequential()\n",
    "\n",
    "model.add(Conv2D(32, (3, 3), input_shape = (50, 50, 3), activation = 'relu'))\n",
    "\n",
    "model.add(MaxPool2D(pool_size = (2, 2)))\n",
    "\n",
    "model.add(Conv2D(128, (3, 3), activation = 'relu'))\n",
    "model.add(MaxPool2D(pool_size = (2, 2)))\n",
    "\n",
    "model.add(Conv2D(256, (3, 3), activation = 'relu'))\n",
    "model.add(MaxPool2D(pool_size = (2, 2)))\n",
    "\n",
    "model.add(Dropout(0.25))\n",
    "\n",
    "model.add(Conv2D(128, (3, 3), activation = 'relu'))\n",
    "model.add(MaxPool2D(pool_size = (2, 2)))\n",
    "model.add(Flatten())\n",
    "\n",
    "model.add(Dense(units = 256, activation = 'relu'))\n",
    "model.add(Dense(units = 256, activation = 'relu'))\n",
    "model.add(Dense(units = 2, activation = 'softmax'))\n"
   ]
  },
  {
   "cell_type": "code",
   "execution_count": 69,
   "metadata": {},
   "outputs": [],
   "source": [
    "from keras import optimizers\n",
    "adam = optimizers.adam(lr=0.005)\n",
    "model.compile(optimizer = 'adam', loss = 'sparse_categorical_crossentropy', metrics = ['accuracy'])"
   ]
  },
  {
   "cell_type": "code",
   "execution_count": 70,
   "metadata": {},
   "outputs": [
    {
     "name": "stdout",
     "output_type": "stream",
     "text": [
      "Model: \"sequential_14\"\n",
      "_________________________________________________________________\n",
      "Layer (type)                 Output Shape              Param #   \n",
      "=================================================================\n",
      "conv2d_58 (Conv2D)           (None, 48, 48, 32)        896       \n",
      "_________________________________________________________________\n",
      "max_pooling2d_37 (MaxPooling (None, 24, 24, 32)        0         \n",
      "_________________________________________________________________\n",
      "conv2d_59 (Conv2D)           (None, 22, 22, 128)       36992     \n",
      "_________________________________________________________________\n",
      "max_pooling2d_38 (MaxPooling (None, 11, 11, 128)       0         \n",
      "_________________________________________________________________\n",
      "conv2d_60 (Conv2D)           (None, 9, 9, 256)         295168    \n",
      "_________________________________________________________________\n",
      "max_pooling2d_39 (MaxPooling (None, 4, 4, 256)         0         \n",
      "_________________________________________________________________\n",
      "dropout_24 (Dropout)         (None, 4, 4, 256)         0         \n",
      "_________________________________________________________________\n",
      "conv2d_61 (Conv2D)           (None, 2, 2, 128)         295040    \n",
      "_________________________________________________________________\n",
      "max_pooling2d_40 (MaxPooling (None, 1, 1, 128)         0         \n",
      "_________________________________________________________________\n",
      "flatten_13 (Flatten)         (None, 128)               0         \n",
      "_________________________________________________________________\n",
      "dense_35 (Dense)             (None, 256)               33024     \n",
      "_________________________________________________________________\n",
      "dense_36 (Dense)             (None, 256)               65792     \n",
      "_________________________________________________________________\n",
      "dense_37 (Dense)             (None, 2)                 514       \n",
      "=================================================================\n",
      "Total params: 727,426\n",
      "Trainable params: 727,426\n",
      "Non-trainable params: 0\n",
      "_________________________________________________________________\n"
     ]
    }
   ],
   "source": [
    "model.summary()"
   ]
  },
  {
   "cell_type": "code",
   "execution_count": 71,
   "metadata": {},
   "outputs": [
    {
     "name": "stdout",
     "output_type": "stream",
     "text": [
      "Train on 4000 samples, validate on 160 samples\n",
      "Epoch 1/12\n",
      "4000/4000 [==============================] - 14s 4ms/sample - loss: 1.1956 - accuracy: 0.6338 - val_loss: 0.6622 - val_accuracy: 0.6125\n",
      "Epoch 2/12\n",
      "4000/4000 [==============================] - 15s 4ms/sample - loss: 0.5674 - accuracy: 0.7150 - val_loss: 0.5968 - val_accuracy: 0.7063\n",
      "Epoch 3/12\n",
      "4000/4000 [==============================] - 15s 4ms/sample - loss: 0.5878 - accuracy: 0.7053 - val_loss: 0.5928 - val_accuracy: 0.6938\n",
      "Epoch 4/12\n",
      "4000/4000 [==============================] - 15s 4ms/sample - loss: 0.5540 - accuracy: 0.7335 - val_loss: 0.5587 - val_accuracy: 0.6875\n",
      "Epoch 5/12\n",
      "4000/4000 [==============================] - 15s 4ms/sample - loss: 0.5571 - accuracy: 0.7240 - val_loss: 0.6067 - val_accuracy: 0.7000\n",
      "Epoch 6/12\n",
      "4000/4000 [==============================] - 15s 4ms/sample - loss: 0.5640 - accuracy: 0.7195 - val_loss: 0.5700 - val_accuracy: 0.7375\n",
      "Epoch 7/12\n",
      "4000/4000 [==============================] - 15s 4ms/sample - loss: 0.5529 - accuracy: 0.7333 - val_loss: 0.6052 - val_accuracy: 0.6625\n",
      "Epoch 8/12\n",
      "4000/4000 [==============================] - 15s 4ms/sample - loss: 0.5485 - accuracy: 0.7343 - val_loss: 0.5718 - val_accuracy: 0.7375\n",
      "Epoch 9/12\n",
      "4000/4000 [==============================] - 15s 4ms/sample - loss: 0.5273 - accuracy: 0.7425 - val_loss: 0.6569 - val_accuracy: 0.6562\n",
      "Epoch 10/12\n",
      "4000/4000 [==============================] - 15s 4ms/sample - loss: 0.5241 - accuracy: 0.7508 - val_loss: 0.6213 - val_accuracy: 0.6562\n",
      "Epoch 11/12\n",
      "4000/4000 [==============================] - 15s 4ms/sample - loss: 0.5083 - accuracy: 0.7570 - val_loss: 0.5873 - val_accuracy: 0.7437\n",
      "Epoch 12/12\n",
      "4000/4000 [==============================] - 15s 4ms/sample - loss: 0.5105 - accuracy: 0.7607 - val_loss: 0.5589 - val_accuracy: 0.7312\n"
     ]
    },
    {
     "data": {
      "text/plain": [
       "<tensorflow.python.keras.callbacks.History at 0x1bd46a34948>"
      ]
     },
     "execution_count": 71,
     "metadata": {},
     "output_type": "execute_result"
    }
   ],
   "source": [
    "model.fit(X_train, Y_train, validation_data=(X_val, Y_val), epochs=12)"
   ]
  },
  {
   "cell_type": "code",
   "execution_count": 73,
   "metadata": {},
   "outputs": [
    {
     "name": "stdout",
     "output_type": "stream",
     "text": [
      "Saved model to disk\n"
     ]
    }
   ],
   "source": [
    "model_json = model.to_json()\n",
    "with open(\"model_brca.json\", \"w\") as json_file:\n",
    "    json_file.write(model_json)\n",
    "# serialize weights to HDF5\n",
    "model.save_weights(\"model_brca.h5\")\n",
    "print(\"Saved model to disk\")"
   ]
  },
  {
   "cell_type": "code",
   "execution_count": 87,
   "metadata": {},
   "outputs": [],
   "source": [
    "predictions = model.predict(X_test)"
   ]
  },
  {
   "cell_type": "code",
   "execution_count": 88,
   "metadata": {},
   "outputs": [
    {
     "name": "stdout",
     "output_type": "stream",
     "text": [
      "(1387, 2)\n"
     ]
    },
    {
     "data": {
      "text/plain": [
       "array([[0.9127079 , 0.08729207],\n",
       "       [0.19286522, 0.80713475],\n",
       "       [0.585432  , 0.41456804],\n",
       "       ...,\n",
       "       [0.9024787 , 0.0975213 ],\n",
       "       [0.87499857, 0.12500137],\n",
       "       [0.15289271, 0.8471073 ]], dtype=float32)"
      ]
     },
     "execution_count": 88,
     "metadata": {},
     "output_type": "execute_result"
    }
   ],
   "source": [
    "print(predictions.shape)\n",
    "predictions"
   ]
  },
  {
   "cell_type": "code",
   "execution_count": 89,
   "metadata": {},
   "outputs": [
    {
     "name": "stdout",
     "output_type": "stream",
     "text": [
      "(1387, 1)\n"
     ]
    },
    {
     "data": {
      "text/plain": [
       "array([[0.08729207],\n",
       "       [0.80713475],\n",
       "       [0.41456804],\n",
       "       ...,\n",
       "       [0.0975213 ],\n",
       "       [0.12500137],\n",
       "       [0.8471073 ]], dtype=float32)"
      ]
     },
     "execution_count": 89,
     "metadata": {},
     "output_type": "execute_result"
    }
   ],
   "source": [
    "pred = predictions[:, 1]\n",
    "pred = np.reshape(pred, (-1, 1))\n",
    "print(pred.shape)\n",
    "pred"
   ]
  },
  {
   "cell_type": "code",
   "execution_count": 90,
   "metadata": {},
   "outputs": [],
   "source": [
    "num = pred.shape[0]\n",
    "for i in range(0, num):\n",
    "    if pred[i]>=0.5:\n",
    "        pred[i]=1\n",
    "    else:\n",
    "        pred[i]=0"
   ]
  },
  {
   "cell_type": "code",
   "execution_count": 93,
   "metadata": {},
   "outputs": [
    {
     "name": "stdout",
     "output_type": "stream",
     "text": [
      "(1387, 1)\n"
     ]
    },
    {
     "data": {
      "text/plain": [
       "array([[0.],\n",
       "       [1.],\n",
       "       [0.],\n",
       "       ...,\n",
       "       [0.],\n",
       "       [0.],\n",
       "       [1.]], dtype=float32)"
      ]
     },
     "execution_count": 93,
     "metadata": {},
     "output_type": "execute_result"
    }
   ],
   "source": [
    "print(pred.shape)\n",
    "pred"
   ]
  },
  {
   "cell_type": "code",
   "execution_count": 94,
   "metadata": {},
   "outputs": [
    {
     "data": {
      "text/plain": [
       "765"
      ]
     },
     "execution_count": 94,
     "metadata": {},
     "output_type": "execute_result"
    }
   ],
   "source": [
    "np.count_nonzero(pred == 1)"
   ]
  },
  {
   "cell_type": "code",
   "execution_count": 97,
   "metadata": {},
   "outputs": [
    {
     "ename": "SyntaxError",
     "evalue": "invalid syntax (<ipython-input-97-00e8942624a9>, line 1)",
     "output_type": "error",
     "traceback": [
      "\u001b[1;36m  File \u001b[1;32m\"<ipython-input-97-00e8942624a9>\"\u001b[1;36m, line \u001b[1;32m1\u001b[0m\n\u001b[1;33m    np.savetxt(\"submission.csv\", pred, delimiter=\",\", .NumberFormat = \"0\")\u001b[0m\n\u001b[1;37m                                                      ^\u001b[0m\n\u001b[1;31mSyntaxError\u001b[0m\u001b[1;31m:\u001b[0m invalid syntax\n"
     ]
    }
   ],
   "source": [
    "np.savetxt(\"submission.csv\", pred, delimiter=\",\")"
   ]
  }
 ],
 "metadata": {
  "kernelspec": {
   "display_name": "Python 3",
   "language": "python",
   "name": "python3"
  },
  "language_info": {
   "codemirror_mode": {
    "name": "ipython",
    "version": 3
   },
   "file_extension": ".py",
   "mimetype": "text/x-python",
   "name": "python",
   "nbconvert_exporter": "python",
   "pygments_lexer": "ipython3",
   "version": "3.7.7"
  }
 },
 "nbformat": 4,
 "nbformat_minor": 4
}
